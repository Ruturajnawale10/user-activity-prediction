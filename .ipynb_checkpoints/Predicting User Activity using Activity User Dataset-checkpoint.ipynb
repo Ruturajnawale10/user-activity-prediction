{
 "cells": [
  {
   "cell_type": "code",
   "execution_count": 22,
   "id": "35ab03e2",
   "metadata": {},
   "outputs": [
    {
     "name": "stdout",
     "output_type": "stream",
     "text": [
      "46\n"
     ]
    }
   ],
   "source": [
    "dataset = []\n",
    "\n",
    "for k in range(1, 10):\n",
    "    path2 = \"data/a0\" + str(k) + \"/p\"\n",
    "    for j in range(1, 9):\n",
    "        path1 = path2 + str(j) + \"/s\"\n",
    "        for i in range(1, 10):\n",
    "            path = path1 + \"0\" + str(i) + \".txt\"\n",
    "            with open(path) as f:\n",
    "                lines = f.readlines()\n",
    "                for line in lines:\n",
    "                    arr = line.split(\",\")\n",
    "                    arr = [float(measurement) for measurement in arr]\n",
    "                    dataset.append(arr)\n",
    "                    dataset[-1].append(k)     #end numeric appended is activity label\n",
    "\n",
    "        for i in range(10, 61):\n",
    "            path = path1 + str(i) + \".txt\"\n",
    "            with open(path) as f:\n",
    "                lines = f.readlines()\n",
    "                for line in lines:\n",
    "                    arr = line.split(\",\")\n",
    "                    arr = [float(measurement) for measurement in arr]\n",
    "                    dataset.append(arr)\n",
    "                    dataset[-1].append(k)\n",
    "                    \n",
    "for k in range(10, 20):\n",
    "    path2 = \"data/a\" + str(k) + \"/p\"\n",
    "    for j in range(1, 9):\n",
    "        path1 = path2 + str(j) + \"/s\"\n",
    "        for i in range(1, 10):\n",
    "            path = path1 + \"0\" + str(i) + \".txt\"\n",
    "            with open(path) as f:\n",
    "                lines = f.readlines()\n",
    "                for line in lines:\n",
    "                    arr = line.split(\",\")\n",
    "                    arr = [float(measurement) for measurement in arr]\n",
    "                    dataset.append(arr)\n",
    "                    dataset[-1].append(k)\n",
    "\n",
    "        for i in range(10, 61):\n",
    "            path = path1 + str(i) + \".txt\"\n",
    "            with open(path) as f:\n",
    "                lines = f.readlines()\n",
    "                for line in lines:\n",
    "                    arr = line.split(\",\")\n",
    "                    arr = [float(measurement) for measurement in arr]\n",
    "                    dataset.append(arr)\n",
    "                    dataset[-1].append(k)\n",
    "\n",
    "print(len(dataset[0])) #125* 60* 8* 19 for 8 people and all activity\n",
    "#this dataset contains 1140000 rows and 46 columns. 45 columns are features and 46th column is activity label"
   ]
  },
  {
   "cell_type": "code",
   "execution_count": null,
   "id": "fad08627",
   "metadata": {},
   "outputs": [],
   "source": []
  }
 ],
 "metadata": {
  "kernelspec": {
   "display_name": "Python 3 (ipykernel)",
   "language": "python",
   "name": "python3"
  },
  "language_info": {
   "codemirror_mode": {
    "name": "ipython",
    "version": 3
   },
   "file_extension": ".py",
   "mimetype": "text/x-python",
   "name": "python",
   "nbconvert_exporter": "python",
   "pygments_lexer": "ipython3",
   "version": "3.10.6"
  }
 },
 "nbformat": 4,
 "nbformat_minor": 5
}
