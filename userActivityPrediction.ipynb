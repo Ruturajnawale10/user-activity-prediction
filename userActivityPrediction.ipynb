{
 "cells": [
  {
   "cell_type": "code",
   "execution_count": 1,
   "id": "35ab03e2",
   "metadata": {},
   "outputs": [],
   "source": [
    "# x is feature dataset, y consists of class labels\n",
    "x = []\n",
    "y = []\n",
    "\n",
    "for k in range(1, 10):\n",
    "    path2 = \"data/a0\" + str(k) + \"/p\"\n",
    "    for j in range(1, 9):\n",
    "        path1 = path2 + str(j) + \"/s\"\n",
    "        for i in range(1, 10):\n",
    "            path = path1 + \"0\" + str(i) + \".txt\"\n",
    "            with open(path) as f:\n",
    "                lines = f.readlines()\n",
    "                for line in lines:\n",
    "                    arr = line.split(\",\")\n",
    "                    arr = [float(measurement) for measurement in arr]\n",
    "                    x.append(arr)\n",
    "                    y.append(k)     #end numeric appended is activity label\n",
    "\n",
    "        for i in range(10, 61):\n",
    "            path = path1 + str(i) + \".txt\"\n",
    "            with open(path) as f:\n",
    "                lines = f.readlines()\n",
    "                for line in lines:\n",
    "                    arr = line.split(\",\")\n",
    "                    arr = [float(measurement) for measurement in arr]\n",
    "                    x.append(arr)\n",
    "                    y.append(k)\n",
    "                    \n",
    "for k in range(10, 20):\n",
    "    path2 = \"data/a\" + str(k) + \"/p\"\n",
    "    for j in range(1, 9):\n",
    "        path1 = path2 + str(j) + \"/s\"\n",
    "        for i in range(1, 10):\n",
    "            path = path1 + \"0\" + str(i) + \".txt\"\n",
    "            with open(path) as f:\n",
    "                lines = f.readlines()\n",
    "                for line in lines:\n",
    "                    arr = line.split(\",\")\n",
    "                    arr = [float(measurement) for measurement in arr]\n",
    "                    x.append(arr)\n",
    "                    y.append(k)\n",
    "\n",
    "        for i in range(10, 61):\n",
    "            path = path1 + str(i) + \".txt\"\n",
    "            with open(path) as f:\n",
    "                lines = f.readlines()\n",
    "                for line in lines:\n",
    "                    arr = line.split(\",\")\n",
    "                    arr = [float(measurement) for measurement in arr]\n",
    "                    x.append(arr)\n",
    "                    y.append(k)\n",
    "\n",
    "#125* 60* 8* 19 for 8 people and all 19 activity\n",
    "#this x contains 1140000 rows and 45 columns. 45 columns are features"
   ]
  },
  {
   "cell_type": "code",
   "execution_count": 2,
   "id": "14e5b3fc",
   "metadata": {},
   "outputs": [],
   "source": [
    "#importing the modules necessary\n",
    "from sklearn.preprocessing import StandardScaler\n",
    "from sklearn.decomposition import PCA\n",
    "from sklearn.model_selection import train_test_split\n",
    "from sklearn.metrics import classification_report\n",
    "from matplotlib import pyplot as plt\n",
    "import numpy as np"
   ]
  },
  {
   "cell_type": "code",
   "execution_count": 5,
   "id": "c6733921",
   "metadata": {},
   "outputs": [],
   "source": [
    "#using train_test_split to separate training and testing data\n",
    "\n",
    "x_train, x_test, y_train, y_test = train_test_split(x, y, test_size = 0.25, random_state = 20)"
   ]
  },
  {
   "cell_type": "code",
   "execution_count": 6,
   "id": "7970bd8f",
   "metadata": {},
   "outputs": [],
   "source": [
    "#standardizing the data improves the accuracy of model\n",
    "standardScaler = StandardScaler()\n",
    "standardScaler.fit(x_train) \n",
    "x_train = standardScaler.transform(x_train)\n",
    "x_test = standardScaler.transform(x_test)\n",
    "\n",
    "#using dimensional reduction results in poor accuracy, so we did not use it\n",
    "#pca\n",
    "# pca = PCA(n_components = 20)\n",
    "# pca.fit(x_train)\n",
    "# x_train = pca.transform(x_train)\n",
    "# x_test = pca.transform(x_test)"
   ]
  },
  {
   "cell_type": "code",
   "execution_count": 7,
   "id": "499549f3",
   "metadata": {},
   "outputs": [
    {
     "data": {
      "image/png": "[encoded data removed]",
      "text/plain": [
       "<Figure size 640x480 with 1 Axes>"
      ]
     },
     "metadata": {},
     "output_type": "display_data"
    }
   ],
   "source": [
    "pca = PCA()\n",
    "#\n",
    "# Determine transformed features\n",
    "#\n",
    "X_train_pca = pca.fit_transform(x_train)\n",
    "#\n",
    "# Determine explained variance using explained_variance_ration_ attribute\n",
    "#\n",
    "exp_var_pca = pca.explained_variance_ratio_\n",
    "#\n",
    "# Cumulative sum of eigenvalues; This will be used to create step plot\n",
    "# for visualizing the variance explained by each principal component.\n",
    "#\n",
    "cum_sum_eigenvalues = np.cumsum(exp_var_pca)\n",
    "#\n",
    "# Create the visualization plot\n",
    "#\n",
    "plt.bar(range(0,len(exp_var_pca)), exp_var_pca, alpha=0.5, align='center', label='Individual explained variance')\n",
    "plt.step(range(0,len(cum_sum_eigenvalues)), cum_sum_eigenvalues, where='mid',label='Cumulative explained variance')\n",
    "plt.ylabel('Explained variance ratio')\n",
    "plt.xlabel('Principal component index')\n",
    "plt.legend(loc='best')\n",
    "plt.tight_layout()\n",
    "plt.show()"
   ]
  },
  {
   "cell_type": "code",
   "execution_count": 8,
   "id": "cabf3a62",
   "metadata": {},
   "outputs": [],
   "source": [
    "#using KNN as the classification model\n",
    "from sklearn.neighbors import KNeighborsClassifier\n",
    "\n",
    "knn = KNeighborsClassifier(n_neighbors=7)\n",
    "knn.fit(x_train, y_train)\n",
    "\n",
    "y_predicted = knn.predict(x_test)"
   ]
  },
  {
   "cell_type": "code",
   "execution_count": 9,
   "id": "8bb8d2d1",
   "metadata": {},
   "outputs": [
    {
     "name": "stdout",
     "output_type": "stream",
     "text": [
      "                                                                           precision    recall  f1-score   support\n",
      "\n",
      "                                                                  sitting       1.00      1.00      1.00     15066\n",
      "                                                                 standing       1.00      1.00      1.00     15016\n",
      "                                                       lying on back side       1.00      1.00      1.00     15086\n",
      "                                                      lying on right side       1.00      1.00      1.00     14978\n",
      "                                                         ascending stairs       0.98      0.95      0.97     15244\n",
      "                                                        descending stairs       0.92      1.00      0.96     14974\n",
      "                                            standing in an elevator still       0.99      1.00      1.00     14984\n",
      "                                             moving around in an elevator       0.98      0.98      0.98     15155\n",
      "                                                 walking in a parking lot       0.98      1.00      0.99     14971\n",
      "           walking on a treadmill with a speed of 4 km/h in flat position       0.99      1.00      1.00     14931\n",
      "walking on a treadmill with a speed of 4 km/h in 15 deg inclined position       1.00      1.00      1.00     15008\n",
      "                            running on a treadmill with a speed of 8 km/h       0.99      1.00      1.00     15032\n",
      "                                                  exercising on a stepper       0.99      1.00      0.99     14823\n",
      "                                            exercising on a cross trainer       0.99      1.00      1.00     15038\n",
      "                       cycling on an exercise bike in horizontal position       1.00      1.00      1.00     14977\n",
      "                         cycling on an exercise bike in vertical position       1.00      1.00      1.00     15017\n",
      "                                                                   rowing       1.00      1.00      1.00     14775\n",
      "                                                                  jumping       0.99      0.98      0.98     14970\n",
      "                                                       playing basketball       1.00      0.90      0.95     14955\n",
      "\n",
      "                                                                 accuracy                           0.99    285000\n",
      "                                                                macro avg       0.99      0.99      0.99    285000\n",
      "                                                             weighted avg       0.99      0.99      0.99    285000\n",
      "\n"
     ]
    }
   ],
   "source": [
    "labels = ['sitting', 'standing', 'lying on back side', 'lying on right side', 'ascending stairs','descending stairs',\n",
    "          'standing in an elevator still', 'moving around in an elevator', 'walking in a parking lot',\n",
    "         'walking on a treadmill with a speed of 4 km/h in flat position', 'walking on a treadmill with a speed of 4 km/h in 15 deg inclined position',\n",
    "         'running on a treadmill with a speed of 8 km/h', 'exercising on a stepper',\n",
    "         'exercising on a cross trainer', 'cycling on an exercise bike in horizontal position', 'cycling on an exercise bike in vertical position',\n",
    "         'rowing', 'jumping', 'playing basketball']\n",
    "\n",
    "print(classification_report(y_test, y_predicted, target_names = labels))"
   ]
  },
  {
   "cell_type": "code",
   "execution_count": 10,
   "id": "ee17cb5b",
   "metadata": {},
   "outputs": [
    {
     "name": "stdout",
     "output_type": "stream",
     "text": [
      "0.9895017543859649\n"
     ]
    }
   ],
   "source": [
    "from sklearn.metrics import accuracy_score\n",
    "\n",
    "print(accuracy_score(y_test, y_predicted))"
   ]
  },
  {
   "cell_type": "code",
   "execution_count": 11,
   "id": "3a363f64",
   "metadata": {},
   "outputs": [],
   "source": []
  },
  {
   "cell_type": "code",
   "execution_count": null,
   "id": "ad427a5d",
   "metadata": {},
   "outputs": [],
   "source": []
  }
 ],
 "metadata": {
  "kernelspec": {
   "display_name": "Python 3 (ipykernel)",
   "language": "python",
   "name": "python3"
  },
  "language_info": {
   "codemirror_mode": {
    "name": "ipython",
    "version": 3
   },
   "file_extension": ".py",
   "mimetype": "text/x-python",
   "name": "python",
   "nbconvert_exporter": "python",
   "pygments_lexer": "ipython3",
   "version": "3.10.8"
  }
 },
 "nbformat": 4,
 "nbformat_minor": 5
}
