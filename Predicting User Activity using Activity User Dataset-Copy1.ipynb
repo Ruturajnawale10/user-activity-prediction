{
 "cells": [
  {
   "cell_type": "code",
   "execution_count": 1,
   "id": "35ab03e2",
   "metadata": {},
   "outputs": [],
   "source": [
    "# x is feature dataset, y consists of class labels\n",
    "x = []\n",
    "y = []\n",
    "\n",
    "for k in range(1, 10):\n",
    "    path2 = \"data/a0\" + str(k) + \"/p\"\n",
    "    for j in range(1, 9):\n",
    "        path1 = path2 + str(j) + \"/s\"\n",
    "        for i in range(1, 10):\n",
    "            path = path1 + \"0\" + str(i) + \".txt\"\n",
    "            with open(path) as f:\n",
    "                lines = f.readlines()\n",
    "                for line in lines:\n",
    "                    arr = line.split(\",\")\n",
    "                    arr = [float(measurement) for measurement in arr]\n",
    "                    x.append(arr)\n",
    "                    y.append(k)     #end numeric appended is activity label\n",
    "\n",
    "        for i in range(10, 61):\n",
    "            path = path1 + str(i) + \".txt\"\n",
    "            with open(path) as f:\n",
    "                lines = f.readlines()\n",
    "                for line in lines:\n",
    "                    arr = line.split(\",\")\n",
    "                    arr = [float(measurement) for measurement in arr]\n",
    "                    x.append(arr)\n",
    "                    y.append(k)\n",
    "                    \n",
    "for k in range(10, 20):\n",
    "    path2 = \"data/a\" + str(k) + \"/p\"\n",
    "    for j in range(1, 9):\n",
    "        path1 = path2 + str(j) + \"/s\"\n",
    "        for i in range(1, 10):\n",
    "            path = path1 + \"0\" + str(i) + \".txt\"\n",
    "            with open(path) as f:\n",
    "                lines = f.readlines()\n",
    "                for line in lines:\n",
    "                    arr = line.split(\",\")\n",
    "                    arr = [float(measurement) for measurement in arr]\n",
    "                    x.append(arr)\n",
    "                    y.append(k)\n",
    "\n",
    "        for i in range(10, 61):\n",
    "            path = path1 + str(i) + \".txt\"\n",
    "            with open(path) as f:\n",
    "                lines = f.readlines()\n",
    "                for line in lines:\n",
    "                    arr = line.split(\",\")\n",
    "                    arr = [float(measurement) for measurement in arr]\n",
    "                    x.append(arr)\n",
    "                    y.append(k)\n",
    "\n",
    "#125* 60* 8* 19 for 8 people and all 19 activity\n",
    "#this x contains 1140000 rows and 45 columns. 45 columns are features"
   ]
  },
  {
   "cell_type": "code",
   "execution_count": 2,
   "id": "14e5b3fc",
   "metadata": {},
   "outputs": [],
   "source": [
    "#importing the modules necessary\n",
    "from sklearn.preprocessing import StandardScaler\n",
    "from sklearn.decomposition import PCA\n",
    "from sklearn.model_selection import train_test_split\n",
    "from sklearn.metrics import classification_report\n",
    "from matplotlib import pyplot as plt\n",
    "import numpy as np"
   ]
  },
  {
   "cell_type": "code",
   "execution_count": 3,
   "id": "c6733921",
   "metadata": {},
   "outputs": [],
   "source": [
    "#using train_test_split to separate training and testing data\n",
    "\n",
    "x_train, x_test, y_train, y_test = train_test_split(x, y, test_size = 0.2, random_state = 50)"
   ]
  },
  {
   "cell_type": "code",
   "execution_count": 4,
   "id": "7970bd8f",
   "metadata": {},
   "outputs": [],
   "source": [
    "#standardizing the data improves the accuracy of model\n",
    "# standardScaler = StandardScaler()\n",
    "# standardScaler.fit(x_train) \n",
    "# x_train = standardScaler.transform(x_train)\n",
    "# x_test = standardScaler.transform(x_test)\n",
    "\n",
    "from sklearn.preprocessing import MinMaxScaler\n",
    "scaler = MinMaxScaler()\n",
    "scaler.fit(x_train)\n",
    "x_train = scaler.transform(x_train)\n",
    "x_test = scaler.transform(x_test)\n",
    "\n",
    "#using dimensional reduction results in poor accuracy, so we did not use it\n",
    "#pca\n",
    "# pca = PCA(n_components = 20)\n",
    "# pca.fit(x_train)\n",
    "# x_train = pca.transform(x_train)\n",
    "# x_test = pca.transform(x_test)"
   ]
  },
  {
   "cell_type": "code",
   "execution_count": 5,
   "id": "77ebcf50",
   "metadata": {},
   "outputs": [
    {
     "data": {
      "image/png": "[encoded data removed]",
      "text/plain": [
       "<Figure size 640x480 with 1 Axes>"
      ]
     },
     "metadata": {},
     "output_type": "display_data"
    }
   ],
   "source": [
    "pca = PCA()\n",
    "#\n",
    "# Determine transformed features\n",
    "#\n",
    "X_train_pca = pca.fit_transform(x_train)\n",
    "#\n",
    "# Determine explained variance using explained_variance_ration_ attribute\n",
    "#\n",
    "exp_var_pca = pca.explained_variance_ratio_\n",
    "#\n",
    "# Cumulative sum of eigenvalues; This will be used to create step plot\n",
    "# for visualizing the variance explained by each principal component.\n",
    "#\n",
    "cum_sum_eigenvalues = np.cumsum(exp_var_pca)\n",
    "#\n",
    "# Create the visualization plot\n",
    "#\n",
    "plt.bar(range(0,len(exp_var_pca)), exp_var_pca, alpha=0.5, align='center', label='Individual explained variance')\n",
    "plt.step(range(0,len(cum_sum_eigenvalues)), cum_sum_eigenvalues, where='mid',label='Cumulative explained variance')\n",
    "plt.ylabel('Explained variance ratio')\n",
    "plt.xlabel('Principal component index')\n",
    "plt.legend(loc='best')\n",
    "plt.tight_layout()\n",
    "plt.show()"
   ]
  },
  {
   "cell_type": "code",
   "execution_count": 6,
   "id": "b45ad6f9",
   "metadata": {},
   "outputs": [],
   "source": [
    "from sklearn.feature_selection import SelectKBest, chi2\n",
    "\n",
    "#use SelectKBest to select the best features, i.e. feature selection\n",
    "kbest = SelectKBest(chi2, k=30)\n",
    "\n",
    "# fit the training dataset for the model\n",
    "kbest.fit(x_train, y_train)\n",
    "\n",
    "# apply transform to training dataset\n",
    "x_train = kbest.transform(x_train)\n",
    "\n",
    "# apply transform to testing dataset\n",
    "x_test = kbest.transform(x_test)"
   ]
  },
  {
   "cell_type": "code",
   "execution_count": 7,
   "id": "cabf3a62",
   "metadata": {},
   "outputs": [],
   "source": [
    "#using KNN as the classification model\n",
    "from sklearn.neighbors import KNeighborsClassifier\n",
    "\n",
    "knn = KNeighborsClassifier(n_neighbors=7)\n",
    "knn.fit(x_train, y_train)\n",
    "\n",
    "y_predicted = knn.predict(x_test)"
   ]
  },
  {
   "cell_type": "code",
   "execution_count": 8,
   "id": "8bb8d2d1",
   "metadata": {},
   "outputs": [
    {
     "name": "stdout",
     "output_type": "stream",
     "text": [
      "                                                                           precision    recall  f1-score   support\n",
      "\n",
      "                                                                  sitting       1.00      1.00      1.00     11924\n",
      "                                                                 standing       1.00      1.00      1.00     11957\n",
      "                                                       lying on back side       1.00      1.00      1.00     11906\n",
      "                                                      lying on right side       1.00      1.00      1.00     12083\n",
      "                                                         ascending stairs       0.93      1.00      0.97     12114\n",
      "                                                        descending stairs       1.00      0.95      0.97     11919\n",
      "                                            standing in an elevator still       0.99      1.00      1.00     12070\n",
      "                                             moving around in an elevator       1.00      0.99      1.00     12115\n",
      "                                                 walking in a parking lot       1.00      1.00      1.00     12089\n",
      "           walking on a treadmill with a speed of 4 km/h in flat position       1.00      1.00      1.00     12004\n",
      "walking on a treadmill with a speed of 4 km/h in 15 deg inclined position       1.00      1.00      1.00     11956\n",
      "                            running on a treadmill with a speed of 8 km/h       1.00      1.00      1.00     12009\n",
      "                                                  exercising on a stepper       1.00      1.00      1.00     11918\n",
      "                                            exercising on a cross trainer       1.00      1.00      1.00     12155\n",
      "                       cycling on an exercise bike in horizontal position       1.00      1.00      1.00     11996\n",
      "                         cycling on an exercise bike in vertical position       1.00      1.00      1.00     11922\n",
      "                                                                   rowing       1.00      1.00      1.00     11825\n",
      "                                                                  jumping       1.00      0.98      0.99     12105\n",
      "                                                       playing basketball       1.00      0.98      0.99     11933\n",
      "\n",
      "                                                                 accuracy                           0.99    228000\n",
      "                                                                macro avg       1.00      0.99      0.99    228000\n",
      "                                                             weighted avg       1.00      0.99      0.99    228000\n",
      "\n"
     ]
    }
   ],
   "source": [
    "labels = ['sitting', 'standing', 'lying on back side', 'lying on right side', 'ascending stairs','descending stairs',\n",
    "          'standing in an elevator still', 'moving around in an elevator', 'walking in a parking lot',\n",
    "         'walking on a treadmill with a speed of 4 km/h in flat position', 'walking on a treadmill with a speed of 4 km/h in 15 deg inclined position',\n",
    "         'running on a treadmill with a speed of 8 km/h', 'exercising on a stepper',\n",
    "         'exercising on a cross trainer', 'cycling on an exercise bike in horizontal position', 'cycling on an exercise bike in vertical position',\n",
    "         'rowing', 'jumping', 'playing basketball']\n",
    "\n",
    "print(classification_report(y_test, y_predicted, target_names = labels))"
   ]
  },
  {
   "cell_type": "code",
   "execution_count": 9,
   "id": "ee17cb5b",
   "metadata": {},
   "outputs": [
    {
     "name": "stdout",
     "output_type": "stream",
     "text": [
      "0.9949166666666667\n"
     ]
    }
   ],
   "source": [
    "from sklearn.metrics import accuracy_score\n",
    "\n",
    "print(accuracy_score(y_test, y_predicted))"
   ]
  },
  {
   "cell_type": "code",
   "execution_count": 10,
   "id": "3a363f64",
   "metadata": {},
   "outputs": [],
   "source": [
    "#Before applying standardization of data\n",
    "\n",
    "#Before applying dimensional reduction PCA\n",
    "# accuracy = 0.9730701754385965 it gives same result as pca with all 45 features\n",
    "# accuracy = 0.9728859649122807 with n_components = 40\n",
    "\n",
    "#After applying dimensional reduction PCA\n",
    "# accuracy = 0.5351008771929825 with n_components = 2\n",
    "# accuracy = 0.6805263157894736 with n_components = 3\n",
    "# accuracy = 0.7498771929824561 with n_components = 4\n",
    "# accuracy = 0.8134736842105263 with n_components = 5\n",
    "# accuracy = 0.9730701754385965 with n_components = 45\n",
    "# accuracy = 0.9730701754385965 without pca. it gives same result as pca with all 45 features\n",
    "# accuracy = 0.9728859649122807 with n_components = 40\n",
    "\n",
    "\n",
    "\n",
    "#After applying standardization of data\n",
    "\n",
    "#Before applying dimensional reduction PCA\n",
    "# accuracy = 0.98975\n",
    "# accuracy =  with n_components = 40\n",
    "\n",
    "#After applying dimensional reduction PCA\n",
    "# accuracy =  with n_components = 2\n",
    "# accuracy =  with n_components = 3\n",
    "# accuracy =  with n_components = 4\n",
    "# accuracy = 0.9333947368421053 with n_components = 5\n",
    "# accuracy = 0.984561403508772 with n_components = 20\n",
    "# accuracy =  with n_components = 45\n",
    "# accuracy =  without pca. it gives same result as pca with all 45 features\n",
    "# accuracy =  with n_components = 40"
   ]
  }
 ],
 "metadata": {
  "kernelspec": {
   "display_name": "Python 3 (ipykernel)",
   "language": "python",
   "name": "python3"
  },
  "language_info": {
   "codemirror_mode": {
    "name": "ipython",
    "version": 3
   },
   "file_extension": ".py",
   "mimetype": "text/x-python",
   "name": "python",
   "nbconvert_exporter": "python",
   "pygments_lexer": "ipython3",
   "version": "3.10.6"
  }
 },
 "nbformat": 4,
 "nbformat_minor": 5
}
