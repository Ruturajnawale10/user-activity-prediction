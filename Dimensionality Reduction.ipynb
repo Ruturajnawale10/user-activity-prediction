{
 "cells": [
  {
   "cell_type": "code",
   "execution_count": 29,
   "id": "35ab03e2",
   "metadata": {},
   "outputs": [],
   "source": [
    "#125* 60* 8* 19 for 8 people and all 19 activity\n",
    "#training + testing contains 1140000 rows and 45 columns. 45 columns are features\n",
    "\n",
    "\n",
    "# x_train is feature dataset, y_train consists of class labels\n",
    "#preparing training data (first 6 users data is used)\n",
    "\n",
    "x_train = []\n",
    "y_train = []\n",
    "\n",
    "for k in range(1, 10):\n",
    "    path2 = \"data/a0\" + str(k) + \"/p\"\n",
    "    for j in range(1, 7):\n",
    "        path1 = path2 + str(j) + \"/s\"\n",
    "        for i in range(1, 10):\n",
    "            path = path1 + \"0\" + str(i) + \".txt\"\n",
    "            with open(path) as f:\n",
    "                lines = f.readlines()\n",
    "                for line in lines:\n",
    "                    arr = line.split(\",\")\n",
    "                    arr = [float(measurement) for measurement in arr]\n",
    "                    x_train.append(arr)\n",
    "                    y_train.append(k)     #end numeric appended is activity label\n",
    "\n",
    "        for i in range(10, 61):\n",
    "            path = path1 + str(i) + \".txt\"\n",
    "            with open(path) as f:\n",
    "                lines = f.readlines()\n",
    "                for line in lines:\n",
    "                    arr = line.split(\",\")\n",
    "                    arr = [float(measurement) for measurement in arr]\n",
    "                    x_train.append(arr)\n",
    "                    y_train.append(k)\n",
    "                    \n",
    "for k in range(10, 20):\n",
    "    path2 = \"data/a\" + str(k) + \"/p\"\n",
    "    for j in range(1, 7):\n",
    "        path1 = path2 + str(j) + \"/s\"\n",
    "        for i in range(1, 10):\n",
    "            path = path1 + \"0\" + str(i) + \".txt\"\n",
    "            with open(path) as f:\n",
    "                lines = f.readlines()\n",
    "                for line in lines:\n",
    "                    arr = line.split(\",\")\n",
    "                    arr = [float(measurement) for measurement in arr]\n",
    "                    x_train.append(arr)\n",
    "                    y_train.append(k)\n",
    "\n",
    "        for i in range(10, 61):\n",
    "            path = path1 + str(i) + \".txt\"\n",
    "            with open(path) as f:\n",
    "                lines = f.readlines()\n",
    "                for line in lines:\n",
    "                    arr = line.split(\",\")\n",
    "                    arr = [float(measurement) for measurement in arr]\n",
    "                    x_train.append(arr)\n",
    "                    y_train.append(k)"
   ]
  },
  {
   "cell_type": "code",
   "execution_count": 30,
   "id": "a362aaa1",
   "metadata": {},
   "outputs": [],
   "source": [
    "# x_test is feature dataset, y_test  consists of class labels\n",
    "#preparing testing data (last 2 users data is used)\n",
    "\n",
    "x_test = []\n",
    "y_test = []\n",
    "\n",
    "for k in range(1, 10):\n",
    "    path2 = \"data/a0\" + str(k) + \"/p\"\n",
    "    for j in range(7, 9):\n",
    "        path1 = path2 + str(j) + \"/s\"\n",
    "        for i in range(1, 10):\n",
    "            path = path1 + \"0\" + str(i) + \".txt\"\n",
    "            with open(path) as f:\n",
    "                lines = f.readlines()\n",
    "                for line in lines:\n",
    "                    arr = line.split(\",\")\n",
    "                    arr = [float(measurement) for measurement in arr]\n",
    "                    x_test.append(arr)\n",
    "                    y_test.append(k)     #end numeric appended is activity label\n",
    "\n",
    "        for i in range(10, 61):\n",
    "            path = path1 + str(i) + \".txt\"\n",
    "            with open(path) as f:\n",
    "                lines = f.readlines()\n",
    "                for line in lines:\n",
    "                    arr = line.split(\",\")\n",
    "                    arr = [float(measurement) for measurement in arr]\n",
    "                    x_test.append(arr)\n",
    "                    y_test.append(k)\n",
    "                    \n",
    "for k in range(10, 20):\n",
    "    path2 = \"data/a\" + str(k) + \"/p\"\n",
    "    for j in range(7, 9):\n",
    "        path1 = path2 + str(j) + \"/s\"\n",
    "        for i in range(1, 10):\n",
    "            path = path1 + \"0\" + str(i) + \".txt\"\n",
    "            with open(path) as f:\n",
    "                lines = f.readlines()\n",
    "                for line in lines:\n",
    "                    arr = line.split(\",\")\n",
    "                    arr = [float(measurement) for measurement in arr]\n",
    "                    x_test.append(arr)\n",
    "                    y_test.append(k)\n",
    "\n",
    "        for i in range(10, 61):\n",
    "            path = path1 + str(i) + \".txt\"\n",
    "            with open(path) as f:\n",
    "                lines = f.readlines()\n",
    "                for line in lines:\n",
    "                    arr = line.split(\",\")\n",
    "                    arr = [float(measurement) for measurement in arr]\n",
    "                    x_test.append(arr)\n",
    "                    y_test.append(k)"
   ]
  },
  {
   "cell_type": "code",
   "execution_count": 31,
   "id": "14e5b3fc",
   "metadata": {},
   "outputs": [],
   "source": [
    "#importing the modules necessary\n",
    "from sklearn.preprocessing import StandardScaler\n",
    "from sklearn.preprocessing import MinMaxScaler\n",
    "from sklearn.decomposition import PCA\n",
    "from sklearn.feature_selection import SelectKBest, chi2\n",
    "from sklearn.neighbors import KNeighborsClassifier\n",
    "from sklearn.ensemble import RandomForestClassifier\n",
    "from sklearn.model_selection import train_test_split\n",
    "from sklearn.metrics import classification_report\n",
    "from matplotlib import pyplot as plt\n",
    "import numpy as np"
   ]
  },
  {
   "cell_type": "code",
   "execution_count": 32,
   "id": "7970bd8f",
   "metadata": {},
   "outputs": [],
   "source": [
    "#standardizing the data improves the accuracy of model\n",
    "standardScaler = StandardScaler()\n",
    "standardScaler.fit(x_train) \n",
    "x_train = standardScaler.transform(x_train)\n",
    "x_test = standardScaler.transform(x_test)\n",
    "\n",
    "# scaler = MinMaxScaler()\n",
    "# scaler.fit(x_train)\n",
    "# x_train = scaler.transform(x_train)\n",
    "# x_test = scaler.transform(x_test)\n",
    "\n",
    "#using dimensional reduction results in poor accuracy, so we did not use it\n",
    "#pca\n",
    "# pca = PCA(n_components = 20)\n",
    "# pca.fit(x_train)\n",
    "# x_train = pca.transform(x_train)\n",
    "# x_test = pca.transform(x_test)"
   ]
  },
  {
   "cell_type": "code",
   "execution_count": 33,
   "id": "a1dc81f8",
   "metadata": {},
   "outputs": [
    {
     "data": {
      "image/png": "[encoded data removed]",
      "text/plain": [
       "<Figure size 640x480 with 1 Axes>"
      ]
     },
     "metadata": {},
     "output_type": "display_data"
    }
   ],
   "source": [
    "#using pca's explained_variance_ratio to see how many features are important\n",
    "\n",
    "pca = PCA()\n",
    "#\n",
    "# Determine transformed features\n",
    "#\n",
    "X_train_pca = pca.fit_transform(x_train)\n",
    "#\n",
    "# Determine explained variance using explained_variance_ration_ attribute\n",
    "#\n",
    "exp_var_pca = pca.explained_variance_ratio_\n",
    "#\n",
    "# Cumulative sum of eigenvalues; This will be used to create step plot\n",
    "# for visualizing the variance explained by each principal component.\n",
    "#\n",
    "cum_sum_eigenvalues = np.cumsum(exp_var_pca)\n",
    "#\n",
    "# Create the visualization plot\n",
    "#\n",
    "plt.bar(range(0,len(exp_var_pca)), exp_var_pca, alpha=0.5, align='center', label='Individual explained variance')\n",
    "plt.step(range(0,len(cum_sum_eigenvalues)), cum_sum_eigenvalues, where='mid',label='Cumulative explained variance')\n",
    "plt.ylabel('Explained variance ratio')\n",
    "plt.xlabel('Principal component index')\n",
    "plt.legend(loc='best')\n",
    "plt.tight_layout()\n",
    "plt.show()"
   ]
  },
  {
   "cell_type": "code",
   "execution_count": 34,
   "id": "9ef1b535",
   "metadata": {},
   "outputs": [],
   "source": [
    "# #use SelectKBest to select the best features, i.e. feature selection\n",
    "# kbest = SelectKBest(chi2, k=45)\n",
    "\n",
    "# # fit the training dataset for the model\n",
    "# kbest.fit(x_train, y_train)\n",
    "\n",
    "# # apply transform to training dataset\n",
    "# x_train = kbest.transform(x_train)\n",
    "\n",
    "# # apply transform to testing dataset\n",
    "# x_test = kbest.transform(x_test)"
   ]
  },
  {
   "cell_type": "code",
   "execution_count": 35,
   "id": "cabf3a62",
   "metadata": {},
   "outputs": [],
   "source": [
    "# classifier = RandomForestClassifier(n_estimators=100)\n",
    "# classifier.fit(x_train, y_train)\n",
    "# y_predicted = classifier.predict(x_test)\n",
    "\n",
    "#using KNN as the classification model\n",
    "\n",
    "knn = KNeighborsClassifier(n_neighbors=9)\n",
    "knn.fit(x_train, y_train)\n",
    "\n",
    "y_predicted = knn.predict(x_test)"
   ]
  },
  {
   "cell_type": "code",
   "execution_count": 36,
   "id": "8bb8d2d1",
   "metadata": {},
   "outputs": [
    {
     "name": "stdout",
     "output_type": "stream",
     "text": [
      "                                                                           precision    recall  f1-score   support\n",
      "\n",
      "                                                                  sitting       1.00      0.97      0.98     15000\n",
      "                                                                 standing       0.99      0.50      0.66     15000\n",
      "                                                       lying on back side       1.00      1.00      1.00     15000\n",
      "                                                      lying on right side       1.00      1.00      1.00     15000\n",
      "                                                         ascending stairs       0.91      0.98      0.94     15000\n",
      "                                                        descending stairs       0.83      0.91      0.87     15000\n",
      "                                            standing in an elevator still       0.76      0.40      0.53     15000\n",
      "                                             moving around in an elevator       0.39      0.82      0.53     15000\n",
      "                                                 walking in a parking lot       0.85      0.56      0.67     15000\n",
      "           walking on a treadmill with a speed of 4 km/h in flat position       0.57      0.70      0.63     15000\n",
      "walking on a treadmill with a speed of 4 km/h in 15 deg inclined position       0.55      0.50      0.52     15000\n",
      "                            running on a treadmill with a speed of 8 km/h       0.95      0.84      0.89     15000\n",
      "                                                  exercising on a stepper       0.91      0.99      0.95     15000\n",
      "                                            exercising on a cross trainer       0.91      0.99      0.95     15000\n",
      "                       cycling on an exercise bike in horizontal position       1.00      1.00      1.00     15000\n",
      "                         cycling on an exercise bike in vertical position       1.00      0.91      0.95     15000\n",
      "                                                                   rowing       1.00      1.00      1.00     15000\n",
      "                                                                  jumping       0.87      0.93      0.90     15000\n",
      "                                                       playing basketball       0.76      0.67      0.71     15000\n",
      "\n",
      "                                                                 accuracy                           0.82    285000\n",
      "                                                                macro avg       0.85      0.82      0.83    285000\n",
      "                                                             weighted avg       0.85      0.82      0.83    285000\n",
      "\n"
     ]
    }
   ],
   "source": [
    "labels = ['sitting', 'standing', 'lying on back side', 'lying on right side', 'ascending stairs','descending stairs',\n",
    "          'standing in an elevator still', 'moving around in an elevator', 'walking in a parking lot',\n",
    "         'walking on a treadmill with a speed of 4 km/h in flat position', 'walking on a treadmill with a speed of 4 km/h in 15 deg inclined position',\n",
    "         'running on a treadmill with a speed of 8 km/h', 'exercising on a stepper',\n",
    "         'exercising on a cross trainer', 'cycling on an exercise bike in horizontal position', 'cycling on an exercise bike in vertical position',\n",
    "         'rowing', 'jumping', 'playing basketball']\n",
    "\n",
    "print(classification_report(y_test, y_predicted, target_names = labels))"
   ]
  },
  {
   "cell_type": "code",
   "execution_count": 38,
   "id": "ee17cb5b",
   "metadata": {},
   "outputs": [
    {
     "name": "stdout",
     "output_type": "stream",
     "text": [
      "0.8239122807017544\n"
     ]
    }
   ],
   "source": [
    "from sklearn.metrics import accuracy_score\n",
    "\n",
    "print(accuracy_score(y_test, y_predicted))"
   ]
  },
  {
   "cell_type": "code",
   "execution_count": 10,
   "id": "3a363f64",
   "metadata": {},
   "outputs": [],
   "source": [
    "#Accuracy scores of different models and parameters\n",
    "#new split of data (6 users for training and 2 users for testing)\n",
    "\n",
    "#accuracy = 0.6988877192982457 with raw data and KNN\n",
    "#accuracy = 0.6802350877192982 with raw data and RandomForest\n",
    "\n",
    "#using KNN and MinMaxScalar,\n",
    "#accuracy = 0.7145298245614035\n",
    "##using KNN and MinMaxScalar, and using SelectKBest k = 20, \n",
    "#accuracy = 0.65 \n",
    "\n",
    "#using RandomForest and MinMaxScalar, SelectKBest where k = 20,\n",
    "#accuracy = 0.6396140350877193\n",
    "#accuracy =  0.6758140350877193 with k = 33\n",
    "#accuracy = 0.686740350877193  with k = 45\n",
    "\n",
    "#using RandomForest and StandardScalar, SelectKBest where k = 20,0.6871894736842106"
   ]
  }
 ],
 "metadata": {
  "kernelspec": {
   "display_name": "Python 3.10.8 64-bit",
   "language": "python",
   "name": "python3"
  },
  "language_info": {
   "codemirror_mode": {
    "name": "ipython",
    "version": 3
   },
   "file_extension": ".py",
   "mimetype": "text/x-python",
   "name": "python",
   "nbconvert_exporter": "python",
   "pygments_lexer": "ipython3",
   "version": "3.10.8"
  },
  "vscode": {
   "interpreter": {
    "hash": "b0fa6594d8f4cbf19f97940f81e996739fb7646882a419484c72d19e05852a7e"
   }
  }
 },
 "nbformat": 4,
 "nbformat_minor": 5
}
